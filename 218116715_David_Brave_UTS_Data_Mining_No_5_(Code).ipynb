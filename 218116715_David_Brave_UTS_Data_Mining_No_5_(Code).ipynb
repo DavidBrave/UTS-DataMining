{
  "nbformat": 4,
  "nbformat_minor": 0,
  "metadata": {
    "colab": {
      "name": "218116715 - David Brave - UTS Data Mining No 5 (Code).ipynb",
      "provenance": [],
      "authorship_tag": "ABX9TyOfQSh7m4dRQQWLTzhGdfp+",
      "include_colab_link": true
    },
    "kernelspec": {
      "name": "python3",
      "display_name": "Python 3"
    },
    "language_info": {
      "name": "python"
    }
  },
  "cells": [
    {
      "cell_type": "markdown",
      "metadata": {
        "id": "view-in-github",
        "colab_type": "text"
      },
      "source": [
        "<a href=\"https://colab.research.google.com/github/DavidBrave/UTS-DataMining/blob/main/218116715_David_Brave_UTS_Data_Mining_No_5_(Code).ipynb\" target=\"_parent\"><img src=\"https://colab.research.google.com/assets/colab-badge.svg\" alt=\"Open In Colab\"/></a>"
      ]
    },
    {
      "cell_type": "markdown",
      "metadata": {
        "id": "ttzKSbHzVKUs"
      },
      "source": [
        "\n",
        "\n",
        "---\n",
        "\n"
      ]
    },
    {
      "cell_type": "markdown",
      "metadata": {
        "id": "HibgO8V2U6lm"
      },
      "source": [
        "# Python Program Untuk Association Rule No. 5 UTS Data Mining"
      ]
    },
    {
      "cell_type": "markdown",
      "metadata": {
        "id": "JW1qY5YVVJIa"
      },
      "source": [
        "\n",
        "\n",
        "---\n",
        "\n"
      ]
    },
    {
      "cell_type": "markdown",
      "metadata": {
        "id": "-8b1s6L7VQWB"
      },
      "source": [
        "a"
      ]
    },
    {
      "cell_type": "code",
      "metadata": {
        "id": "ZWdyc1jkVRNW"
      },
      "source": [
        "import pandas as pd\n",
        "import numpy as np\n",
        "import sys\n",
        "from itertools import combinations, groupby\n",
        "from collections import Counter\n",
        "from IPython.display import display"
      ],
      "execution_count": 9,
      "outputs": []
    },
    {
      "cell_type": "code",
      "metadata": {
        "colab": {
          "base_uri": "https://localhost:8080/"
        },
        "id": "QZFvKMHxVV_M",
        "outputId": "b3ed6029-3ff9-4ab1-879d-dd6da1baa2c6"
      },
      "source": [
        "orders = np.array(\n",
        "    \n",
        "    [\n",
        "     [1, 'B'], [1, 'C'], [1, 'D'], \n",
        "     [2, 'B'], [2, 'C'], [2, 'G'],\n",
        "     [3, 'B'], [3, 'D'],\n",
        "     [4, 'A'], [4, 'C'], [4, 'G'],\n",
        "     [5, 'B'], [5, 'D'], [5, 'E'],\n",
        "     [6, 'B'], [6, 'C'], [6, 'D'], [6, 'H'],\n",
        "     [7, 'C'], [7, 'D'], [7, 'F'],\n",
        "     [8, 'C'], [8, 'D'],\n",
        "     [9, 'B'], [9, 'C'], [9, 'D'],\n",
        "    ],\n",
        "\n",
        "     dtype=object)\n",
        "\n",
        "print(orders)"
      ],
      "execution_count": 3,
      "outputs": [
        {
          "output_type": "stream",
          "name": "stdout",
          "text": [
            "[[1 'B']\n",
            " [1 'C']\n",
            " [1 'D']\n",
            " [2 'B']\n",
            " [2 'C']\n",
            " [2 'G']\n",
            " [3 'B']\n",
            " [3 'D']\n",
            " [4 'A']\n",
            " [4 'C']\n",
            " [4 'G']\n",
            " [5 'B']\n",
            " [5 'D']\n",
            " [5 'E']\n",
            " [6 'B']\n",
            " [6 'C']\n",
            " [6 'D']\n",
            " [6 'H']\n",
            " [7 'C']\n",
            " [7 'D']\n",
            " [7 'F']\n",
            " [8 'C']\n",
            " [8 'D']\n",
            " [9 'B']\n",
            " [9 'C']\n",
            " [9 'D']]\n"
          ]
        }
      ]
    },
    {
      "cell_type": "code",
      "metadata": {
        "colab": {
          "base_uri": "https://localhost:8080/",
          "height": 197
        },
        "id": "Y_DkHZJWabqW",
        "outputId": "3425f5bd-9ee8-4298-96cc-c4eb77badb7c"
      },
      "source": [
        "orders = orders.set_index('order_id')['product_id'].rename('item_id')\n",
        "display(orders.head(10))\n",
        "type(orders)"
      ],
      "execution_count": 10,
      "outputs": [
        {
          "output_type": "error",
          "ename": "AttributeError",
          "evalue": "ignored",
          "traceback": [
            "\u001b[0;31m---------------------------------------------------------------------------\u001b[0m",
            "\u001b[0;31mAttributeError\u001b[0m                            Traceback (most recent call last)",
            "\u001b[0;32m<ipython-input-10-15078819ab26>\u001b[0m in \u001b[0;36m<module>\u001b[0;34m()\u001b[0m\n\u001b[0;32m----> 1\u001b[0;31m \u001b[0morders\u001b[0m \u001b[0;34m=\u001b[0m \u001b[0morders\u001b[0m\u001b[0;34m.\u001b[0m\u001b[0mset_index\u001b[0m\u001b[0;34m(\u001b[0m\u001b[0;34m'order_id'\u001b[0m\u001b[0;34m)\u001b[0m\u001b[0;34m[\u001b[0m\u001b[0;34m'product_id'\u001b[0m\u001b[0;34m]\u001b[0m\u001b[0;34m.\u001b[0m\u001b[0mrename\u001b[0m\u001b[0;34m(\u001b[0m\u001b[0;34m'item_id'\u001b[0m\u001b[0;34m)\u001b[0m\u001b[0;34m\u001b[0m\u001b[0;34m\u001b[0m\u001b[0m\n\u001b[0m\u001b[1;32m      2\u001b[0m \u001b[0mdisplay\u001b[0m\u001b[0;34m(\u001b[0m\u001b[0morders\u001b[0m\u001b[0;34m.\u001b[0m\u001b[0mhead\u001b[0m\u001b[0;34m(\u001b[0m\u001b[0;36m10\u001b[0m\u001b[0;34m)\u001b[0m\u001b[0;34m)\u001b[0m\u001b[0;34m\u001b[0m\u001b[0;34m\u001b[0m\u001b[0m\n\u001b[1;32m      3\u001b[0m \u001b[0mtype\u001b[0m\u001b[0;34m(\u001b[0m\u001b[0morders\u001b[0m\u001b[0;34m)\u001b[0m\u001b[0;34m\u001b[0m\u001b[0;34m\u001b[0m\u001b[0m\n",
            "\u001b[0;31mAttributeError\u001b[0m: 'numpy.ndarray' object has no attribute 'set_index'"
          ]
        }
      ]
    },
    {
      "cell_type": "code",
      "metadata": {
        "id": "LC5clD5YXPOw"
      },
      "source": [
        "def pair_items (item_order) :\n",
        "\n",
        "  for order_id, order_data in groupby(orders, lambda x: x[0]) :\n",
        "    list_item = [item[1] for item in order_data]\n",
        "\n",
        "    for item_pair in combinations(list_item, 2) :\n",
        "        yield item_pair\n"
      ],
      "execution_count": 7,
      "outputs": []
    },
    {
      "cell_type": "code",
      "metadata": {
        "colab": {
          "base_uri": "https://localhost:8080/"
        },
        "id": "JoUYAE0SZXRB",
        "outputId": "ef51473e-aad8-4030-9fbf-35860a9f643d"
      },
      "source": [
        "Counter(pair_items(orders))"
      ],
      "execution_count": 8,
      "outputs": [
        {
          "output_type": "execute_result",
          "data": {
            "text/plain": [
              "Counter({('A', 'C'): 1,\n",
              "         ('A', 'G'): 1,\n",
              "         ('B', 'C'): 4,\n",
              "         ('B', 'D'): 5,\n",
              "         ('B', 'E'): 1,\n",
              "         ('B', 'G'): 1,\n",
              "         ('B', 'H'): 1,\n",
              "         ('C', 'D'): 5,\n",
              "         ('C', 'F'): 1,\n",
              "         ('C', 'G'): 2,\n",
              "         ('C', 'H'): 1,\n",
              "         ('D', 'E'): 1,\n",
              "         ('D', 'F'): 1,\n",
              "         ('D', 'H'): 1})"
            ]
          },
          "metadata": {},
          "execution_count": 8
        }
      ]
    },
    {
      "cell_type": "code",
      "metadata": {
        "id": "ZQlt2PiSZpdk"
      },
      "source": [
        ""
      ],
      "execution_count": null,
      "outputs": []
    }
  ]
}